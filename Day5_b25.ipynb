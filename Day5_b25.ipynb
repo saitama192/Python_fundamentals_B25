{
 "cells": [
  {
   "cell_type": "code",
   "execution_count": 3,
   "metadata": {},
   "outputs": [],
   "source": [
    "#we learned about list datatype\n",
    "\n"
   ]
  },
  {
   "cell_type": "code",
   "execution_count": 4,
   "metadata": {},
   "outputs": [],
   "source": [
    "students = ['vaibhav','sameer','neha','sakshi','manali','sureksha','kiran','akshita']"
   ]
  },
  {
   "cell_type": "code",
   "execution_count": 5,
   "metadata": {},
   "outputs": [
    {
     "name": "stdout",
     "output_type": "stream",
     "text": [
      "['vaibhav', 'sameer', 'neha', 'sakshi', 'manali', 'sureksha', 'kiran', 'akshita']\n"
     ]
    }
   ],
   "source": [
    "print(students)"
   ]
  },
  {
   "cell_type": "code",
   "execution_count": 6,
   "metadata": {},
   "outputs": [
    {
     "data": {
      "text/plain": [
       "list"
      ]
     },
     "execution_count": 6,
     "metadata": {},
     "output_type": "execute_result"
    }
   ],
   "source": [
    "type(students)"
   ]
  },
  {
   "cell_type": "code",
   "execution_count": null,
   "metadata": {},
   "outputs": [],
   "source": [
    "# to appreciate the list of students above"
   ]
  },
  {
   "cell_type": "code",
   "execution_count": 7,
   "metadata": {},
   "outputs": [
    {
     "name": "stdout",
     "output_type": "stream",
     "text": [
      "keep up the good work,vaibhav\n"
     ]
    }
   ],
   "source": [
    "print(f\"keep up the good work,{students[0]}\")"
   ]
  },
  {
   "cell_type": "code",
   "execution_count": 8,
   "metadata": {},
   "outputs": [
    {
     "name": "stdout",
     "output_type": "stream",
     "text": [
      "keep up the good work,sameer\n"
     ]
    }
   ],
   "source": [
    "print(f\"keep up the good work,{students[1]}\")"
   ]
  },
  {
   "cell_type": "code",
   "execution_count": 9,
   "metadata": {},
   "outputs": [
    {
     "name": "stdout",
     "output_type": "stream",
     "text": [
      "keep up the good work,neha\n"
     ]
    }
   ],
   "source": [
    "print(f\"keep up the good work,{students[2]}\")"
   ]
  },
  {
   "cell_type": "code",
   "execution_count": null,
   "metadata": {},
   "outputs": [],
   "source": [
    "#Introduction to for loops:"
   ]
  },
  {
   "cell_type": "code",
   "execution_count": 10,
   "metadata": {},
   "outputs": [],
   "source": [
    "#tempvar we will creating the loop itself\n",
    "for tempvar in mainvar:\n",
    "    print(tempvar) #indentation"
   ]
  },
  {
   "cell_type": "code",
   "execution_count": null,
   "metadata": {},
   "outputs": [],
   "source": [
    "#implimentation of a for loop."
   ]
  },
  {
   "cell_type": "code",
   "execution_count": 11,
   "metadata": {},
   "outputs": [
    {
     "name": "stdout",
     "output_type": "stream",
     "text": [
      "vaibhav\n",
      "sameer\n",
      "neha\n",
      "sakshi\n",
      "manali\n",
      "sureksha\n",
      "kiran\n",
      "akshita\n"
     ]
    }
   ],
   "source": [
    "for x in students:\n",
    "    print(x)"
   ]
  },
  {
   "cell_type": "code",
   "execution_count": null,
   "metadata": {},
   "outputs": [],
   "source": [
    "#enhancement of the for loop"
   ]
  },
  {
   "cell_type": "code",
   "execution_count": 13,
   "metadata": {},
   "outputs": [
    {
     "name": "stdout",
     "output_type": "stream",
     "text": [
      "keep up the good work vaibhav\n",
      "keep up the good work sameer\n",
      "keep up the good work neha\n",
      "keep up the good work sakshi\n",
      "keep up the good work manali\n",
      "keep up the good work sureksha\n",
      "keep up the good work kiran\n",
      "keep up the good work akshita\n"
     ]
    }
   ],
   "source": [
    "for x in students: #x is a temporary variable\n",
    "    print(f\"keep up the good work {x}\") # , is not necessary"
   ]
  },
  {
   "cell_type": "code",
   "execution_count": null,
   "metadata": {},
   "outputs": [],
   "source": [
    "#temporary variable can be anything, try to keep temporary varible simple"
   ]
  },
  {
   "cell_type": "code",
   "execution_count": 14,
   "metadata": {},
   "outputs": [
    {
     "name": "stdout",
     "output_type": "stream",
     "text": [
      "keep up the good work vaibhav\n",
      "I will be looking forward to receive your file of today, vaibhav\n",
      "keep up the good work sameer\n",
      "I will be looking forward to receive your file of today, sameer\n",
      "keep up the good work neha\n",
      "I will be looking forward to receive your file of today, neha\n",
      "keep up the good work sakshi\n",
      "I will be looking forward to receive your file of today, sakshi\n",
      "keep up the good work manali\n",
      "I will be looking forward to receive your file of today, manali\n",
      "keep up the good work sureksha\n",
      "I will be looking forward to receive your file of today, sureksha\n",
      "keep up the good work kiran\n",
      "I will be looking forward to receive your file of today, kiran\n",
      "keep up the good work akshita\n",
      "I will be looking forward to receive your file of today, akshita\n"
     ]
    }
   ],
   "source": [
    "#further enhancement of for loop\n",
    "for x in students: #x is a temporary variable\n",
    "    print(f\"keep up the good work {x}\")\n",
    "    print(f\"I will be looking forward to receive your file of today, {x}\")"
   ]
  },
  {
   "cell_type": "code",
   "execution_count": 16,
   "metadata": {},
   "outputs": [
    {
     "name": "stdout",
     "output_type": "stream",
     "text": [
      "keep up the good work vaibhav\n",
      "I will be looking forward to receive your file of today, vaibhav.\n",
      "\n",
      "keep up the good work sameer\n",
      "I will be looking forward to receive your file of today, sameer.\n",
      "\n",
      "keep up the good work neha\n",
      "I will be looking forward to receive your file of today, neha.\n",
      "\n",
      "keep up the good work sakshi\n",
      "I will be looking forward to receive your file of today, sakshi.\n",
      "\n",
      "keep up the good work manali\n",
      "I will be looking forward to receive your file of today, manali.\n",
      "\n",
      "keep up the good work sureksha\n",
      "I will be looking forward to receive your file of today, sureksha.\n",
      "\n",
      "keep up the good work kiran\n",
      "I will be looking forward to receive your file of today, kiran.\n",
      "\n",
      "keep up the good work akshita\n",
      "I will be looking forward to receive your file of today, akshita.\n",
      "\n"
     ]
    }
   ],
   "source": [
    "for x in students: #x is a temporary variable\n",
    "    print(f\"keep up the good work {x}\")\n",
    "    print(f\"I will be looking forward to receive your file of today, {x}.\\n\")"
   ]
  },
  {
   "cell_type": "code",
   "execution_count": 17,
   "metadata": {},
   "outputs": [
    {
     "name": "stdout",
     "output_type": "stream",
     "text": [
      "keep up the good work vaibhav\n",
      "I will be looking forward to receive your file of today, vaibhav.\n",
      "\n",
      "keep up the good work sameer\n",
      "I will be looking forward to receive your file of today, sameer.\n",
      "\n",
      "keep up the good work neha\n",
      "I will be looking forward to receive your file of today, neha.\n",
      "\n",
      "keep up the good work sakshi\n",
      "I will be looking forward to receive your file of today, sakshi.\n",
      "\n",
      "keep up the good work manali\n",
      "I will be looking forward to receive your file of today, manali.\n",
      "\n",
      "keep up the good work sureksha\n",
      "I will be looking forward to receive your file of today, sureksha.\n",
      "\n",
      "keep up the good work kiran\n",
      "I will be looking forward to receive your file of today, kiran.\n",
      "\n",
      "keep up the good work akshita\n",
      "I will be looking forward to receive your file of today, akshita.\n",
      "\n",
      "Thank you all for showing interest in learning python\n"
     ]
    }
   ],
   "source": [
    "for x in students: \n",
    "    print(f\"keep up the good work {x}\")\n",
    "    print(f\"I will be looking forward to receive your file of today, {x}.\\n\")\n",
    "print('Thank you all for showing interest in learning python')    "
   ]
  },
  {
   "cell_type": "code",
   "execution_count": 18,
   "metadata": {},
   "outputs": [
    {
     "name": "stdout",
     "output_type": "stream",
     "text": [
      "['vaibhav', 'sameer', 'neha', 'sakshi', 'manali', 'sureksha', 'kiran', 'akshita']\n"
     ]
    }
   ],
   "source": [
    "print(students) #iteration over the elements"
   ]
  },
  {
   "cell_type": "code",
   "execution_count": null,
   "metadata": {},
   "outputs": [],
   "source": []
  },
  {
   "cell_type": "code",
   "execution_count": null,
   "metadata": {},
   "outputs": [],
   "source": []
  },
  {
   "cell_type": "code",
   "execution_count": null,
   "metadata": {},
   "outputs": [],
   "source": []
  },
  {
   "cell_type": "code",
   "execution_count": null,
   "metadata": {},
   "outputs": [],
   "source": []
  },
  {
   "cell_type": "code",
   "execution_count": null,
   "metadata": {},
   "outputs": [],
   "source": []
  },
  {
   "cell_type": "code",
   "execution_count": null,
   "metadata": {},
   "outputs": [],
   "source": []
  }
 ],
 "metadata": {
  "kernelspec": {
   "display_name": "Python 3",
   "language": "python",
   "name": "python3"
  },
  "language_info": {
   "codemirror_mode": {
    "name": "ipython",
    "version": 3
   },
   "file_extension": ".py",
   "mimetype": "text/x-python",
   "name": "python",
   "nbconvert_exporter": "python",
   "pygments_lexer": "ipython3",
   "version": "3.7.6"
  }
 },
 "nbformat": 4,
 "nbformat_minor": 4
}
